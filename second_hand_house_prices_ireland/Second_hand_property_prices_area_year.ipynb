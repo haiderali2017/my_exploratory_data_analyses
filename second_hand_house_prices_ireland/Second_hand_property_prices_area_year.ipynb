{
  "nbformat": 4,
  "nbformat_minor": 0,
  "metadata": {
    "colab": {
      "provenance": []
    },
    "kernelspec": {
      "name": "python3",
      "display_name": "Python 3"
    },
    "language_info": {
      "name": "python"
    }
  },
  "cells": [
    {
      "cell_type": "code",
      "execution_count": 1,
      "metadata": {
        "id": "oFJjv19k_VqC"
      },
      "outputs": [],
      "source": [
        "import numpy as np\n",
        "import pandas as pd\n",
        "import matplotlib.pyplot as plt\n",
        "%matplotlib inline\n",
        "import seaborn as sns"
      ]
    },
    {
      "cell_type": "code",
      "source": [
        "df = pd.read_csv('/content/form_41c-price-sh-property-area-by_year_1.csv')"
      ],
      "metadata": {
        "id": "i-c_ozxJ_c4s"
      },
      "execution_count": 2,
      "outputs": []
    },
    {
      "cell_type": "code",
      "source": [
        "df.head()"
      ],
      "metadata": {
        "colab": {
          "base_uri": "https://localhost:8080/",
          "height": 285
        },
        "id": "6Q0dZTFH_22z",
        "outputId": "af5b7bb9-bf67-4e43-812a-42898abc1db2"
      },
      "execution_count": 3,
      "outputs": [
        {
          "output_type": "execute_result",
          "data": {
            "text/plain": [
              "      YEAR Second Hand Property prices Unnamed: 2 Unnamed: 3 Unnamed: 4  \\\n",
              "0      NaN                    National    Dublin        Cork     Galway   \n",
              "1  1969/70                         NaN      6,603        NaN        NaN   \n",
              "2  1970/71                         NaN      7,618        NaN        NaN   \n",
              "3  1971/72                         NaN      8,888        NaN        NaN   \n",
              "4  1972/73                         NaN      9,828        NaN        NaN   \n",
              "\n",
              "  Unnamed: 5 Unnamed: 6   Unnamed: 7  Unnamed: 8  Unnamed: 9  Unnamed: 10  \\\n",
              "0   Limerick  Waterford  Other Areas         NaN         NaN          NaN   \n",
              "1        NaN        NaN          NaN         NaN         NaN          NaN   \n",
              "2        NaN        NaN        6,427         NaN         NaN          NaN   \n",
              "3        NaN        NaN        7,198         NaN         NaN          NaN   \n",
              "4        NaN        NaN        8,054         NaN         NaN          NaN   \n",
              "\n",
              "   Unnamed: 11  Unnamed: 12  Unnamed: 13  \n",
              "0          NaN          NaN          NaN  \n",
              "1          NaN          NaN          NaN  \n",
              "2          NaN          NaN          NaN  \n",
              "3          NaN          NaN          NaN  \n",
              "4          NaN          NaN          NaN  "
            ],
            "text/html": [
              "\n",
              "  <div id=\"df-2a442b9a-9940-4024-86b2-e84b8cf42ac7\">\n",
              "    <div class=\"colab-df-container\">\n",
              "      <div>\n",
              "<style scoped>\n",
              "    .dataframe tbody tr th:only-of-type {\n",
              "        vertical-align: middle;\n",
              "    }\n",
              "\n",
              "    .dataframe tbody tr th {\n",
              "        vertical-align: top;\n",
              "    }\n",
              "\n",
              "    .dataframe thead th {\n",
              "        text-align: right;\n",
              "    }\n",
              "</style>\n",
              "<table border=\"1\" class=\"dataframe\">\n",
              "  <thead>\n",
              "    <tr style=\"text-align: right;\">\n",
              "      <th></th>\n",
              "      <th>YEAR</th>\n",
              "      <th>Second Hand Property prices</th>\n",
              "      <th>Unnamed: 2</th>\n",
              "      <th>Unnamed: 3</th>\n",
              "      <th>Unnamed: 4</th>\n",
              "      <th>Unnamed: 5</th>\n",
              "      <th>Unnamed: 6</th>\n",
              "      <th>Unnamed: 7</th>\n",
              "      <th>Unnamed: 8</th>\n",
              "      <th>Unnamed: 9</th>\n",
              "      <th>Unnamed: 10</th>\n",
              "      <th>Unnamed: 11</th>\n",
              "      <th>Unnamed: 12</th>\n",
              "      <th>Unnamed: 13</th>\n",
              "    </tr>\n",
              "  </thead>\n",
              "  <tbody>\n",
              "    <tr>\n",
              "      <th>0</th>\n",
              "      <td>NaN</td>\n",
              "      <td>National</td>\n",
              "      <td>Dublin</td>\n",
              "      <td>Cork</td>\n",
              "      <td>Galway</td>\n",
              "      <td>Limerick</td>\n",
              "      <td>Waterford</td>\n",
              "      <td>Other Areas</td>\n",
              "      <td>NaN</td>\n",
              "      <td>NaN</td>\n",
              "      <td>NaN</td>\n",
              "      <td>NaN</td>\n",
              "      <td>NaN</td>\n",
              "      <td>NaN</td>\n",
              "    </tr>\n",
              "    <tr>\n",
              "      <th>1</th>\n",
              "      <td>1969/70</td>\n",
              "      <td>NaN</td>\n",
              "      <td>6,603</td>\n",
              "      <td>NaN</td>\n",
              "      <td>NaN</td>\n",
              "      <td>NaN</td>\n",
              "      <td>NaN</td>\n",
              "      <td>NaN</td>\n",
              "      <td>NaN</td>\n",
              "      <td>NaN</td>\n",
              "      <td>NaN</td>\n",
              "      <td>NaN</td>\n",
              "      <td>NaN</td>\n",
              "      <td>NaN</td>\n",
              "    </tr>\n",
              "    <tr>\n",
              "      <th>2</th>\n",
              "      <td>1970/71</td>\n",
              "      <td>NaN</td>\n",
              "      <td>7,618</td>\n",
              "      <td>NaN</td>\n",
              "      <td>NaN</td>\n",
              "      <td>NaN</td>\n",
              "      <td>NaN</td>\n",
              "      <td>6,427</td>\n",
              "      <td>NaN</td>\n",
              "      <td>NaN</td>\n",
              "      <td>NaN</td>\n",
              "      <td>NaN</td>\n",
              "      <td>NaN</td>\n",
              "      <td>NaN</td>\n",
              "    </tr>\n",
              "    <tr>\n",
              "      <th>3</th>\n",
              "      <td>1971/72</td>\n",
              "      <td>NaN</td>\n",
              "      <td>8,888</td>\n",
              "      <td>NaN</td>\n",
              "      <td>NaN</td>\n",
              "      <td>NaN</td>\n",
              "      <td>NaN</td>\n",
              "      <td>7,198</td>\n",
              "      <td>NaN</td>\n",
              "      <td>NaN</td>\n",
              "      <td>NaN</td>\n",
              "      <td>NaN</td>\n",
              "      <td>NaN</td>\n",
              "      <td>NaN</td>\n",
              "    </tr>\n",
              "    <tr>\n",
              "      <th>4</th>\n",
              "      <td>1972/73</td>\n",
              "      <td>NaN</td>\n",
              "      <td>9,828</td>\n",
              "      <td>NaN</td>\n",
              "      <td>NaN</td>\n",
              "      <td>NaN</td>\n",
              "      <td>NaN</td>\n",
              "      <td>8,054</td>\n",
              "      <td>NaN</td>\n",
              "      <td>NaN</td>\n",
              "      <td>NaN</td>\n",
              "      <td>NaN</td>\n",
              "      <td>NaN</td>\n",
              "      <td>NaN</td>\n",
              "    </tr>\n",
              "  </tbody>\n",
              "</table>\n",
              "</div>\n",
              "      <button class=\"colab-df-convert\" onclick=\"convertToInteractive('df-2a442b9a-9940-4024-86b2-e84b8cf42ac7')\"\n",
              "              title=\"Convert this dataframe to an interactive table.\"\n",
              "              style=\"display:none;\">\n",
              "        \n",
              "  <svg xmlns=\"http://www.w3.org/2000/svg\" height=\"24px\"viewBox=\"0 0 24 24\"\n",
              "       width=\"24px\">\n",
              "    <path d=\"M0 0h24v24H0V0z\" fill=\"none\"/>\n",
              "    <path d=\"M18.56 5.44l.94 2.06.94-2.06 2.06-.94-2.06-.94-.94-2.06-.94 2.06-2.06.94zm-11 1L8.5 8.5l.94-2.06 2.06-.94-2.06-.94L8.5 2.5l-.94 2.06-2.06.94zm10 10l.94 2.06.94-2.06 2.06-.94-2.06-.94-.94-2.06-.94 2.06-2.06.94z\"/><path d=\"M17.41 7.96l-1.37-1.37c-.4-.4-.92-.59-1.43-.59-.52 0-1.04.2-1.43.59L10.3 9.45l-7.72 7.72c-.78.78-.78 2.05 0 2.83L4 21.41c.39.39.9.59 1.41.59.51 0 1.02-.2 1.41-.59l7.78-7.78 2.81-2.81c.8-.78.8-2.07 0-2.86zM5.41 20L4 18.59l7.72-7.72 1.47 1.35L5.41 20z\"/>\n",
              "  </svg>\n",
              "      </button>\n",
              "      \n",
              "  <style>\n",
              "    .colab-df-container {\n",
              "      display:flex;\n",
              "      flex-wrap:wrap;\n",
              "      gap: 12px;\n",
              "    }\n",
              "\n",
              "    .colab-df-convert {\n",
              "      background-color: #E8F0FE;\n",
              "      border: none;\n",
              "      border-radius: 50%;\n",
              "      cursor: pointer;\n",
              "      display: none;\n",
              "      fill: #1967D2;\n",
              "      height: 32px;\n",
              "      padding: 0 0 0 0;\n",
              "      width: 32px;\n",
              "    }\n",
              "\n",
              "    .colab-df-convert:hover {\n",
              "      background-color: #E2EBFA;\n",
              "      box-shadow: 0px 1px 2px rgba(60, 64, 67, 0.3), 0px 1px 3px 1px rgba(60, 64, 67, 0.15);\n",
              "      fill: #174EA6;\n",
              "    }\n",
              "\n",
              "    [theme=dark] .colab-df-convert {\n",
              "      background-color: #3B4455;\n",
              "      fill: #D2E3FC;\n",
              "    }\n",
              "\n",
              "    [theme=dark] .colab-df-convert:hover {\n",
              "      background-color: #434B5C;\n",
              "      box-shadow: 0px 1px 3px 1px rgba(0, 0, 0, 0.15);\n",
              "      filter: drop-shadow(0px 1px 2px rgba(0, 0, 0, 0.3));\n",
              "      fill: #FFFFFF;\n",
              "    }\n",
              "  </style>\n",
              "\n",
              "      <script>\n",
              "        const buttonEl =\n",
              "          document.querySelector('#df-2a442b9a-9940-4024-86b2-e84b8cf42ac7 button.colab-df-convert');\n",
              "        buttonEl.style.display =\n",
              "          google.colab.kernel.accessAllowed ? 'block' : 'none';\n",
              "\n",
              "        async function convertToInteractive(key) {\n",
              "          const element = document.querySelector('#df-2a442b9a-9940-4024-86b2-e84b8cf42ac7');\n",
              "          const dataTable =\n",
              "            await google.colab.kernel.invokeFunction('convertToInteractive',\n",
              "                                                     [key], {});\n",
              "          if (!dataTable) return;\n",
              "\n",
              "          const docLinkHtml = 'Like what you see? Visit the ' +\n",
              "            '<a target=\"_blank\" href=https://colab.research.google.com/notebooks/data_table.ipynb>data table notebook</a>'\n",
              "            + ' to learn more about interactive tables.';\n",
              "          element.innerHTML = '';\n",
              "          dataTable['output_type'] = 'display_data';\n",
              "          await google.colab.output.renderOutput(dataTable, element);\n",
              "          const docLink = document.createElement('div');\n",
              "          docLink.innerHTML = docLinkHtml;\n",
              "          element.appendChild(docLink);\n",
              "        }\n",
              "      </script>\n",
              "    </div>\n",
              "  </div>\n",
              "  "
            ]
          },
          "metadata": {},
          "execution_count": 3
        }
      ]
    },
    {
      "cell_type": "code",
      "source": [
        "df.shape"
      ],
      "metadata": {
        "colab": {
          "base_uri": "https://localhost:8080/"
        },
        "id": "os5qFNgV__UQ",
        "outputId": "4a198731-12ba-417f-e422-0682311a629e"
      },
      "execution_count": 4,
      "outputs": [
        {
          "output_type": "execute_result",
          "data": {
            "text/plain": [
              "(78, 14)"
            ]
          },
          "metadata": {},
          "execution_count": 4
        }
      ]
    },
    {
      "cell_type": "markdown",
      "source": [
        "*As we can see in above result that there are a lot of null columns with null values. We will be addressing that issue in data cleaning phase.*\n",
        "\n"
      ],
      "metadata": {
        "id": "TSdUmmg5ICHQ"
      }
    },
    {
      "cell_type": "markdown",
      "source": [
        "# Data Cleaning"
      ],
      "metadata": {
        "id": "_vfF0J5yZigK"
      }
    },
    {
      "cell_type": "markdown",
      "source": [
        "\n",
        "\n",
        "##1.   Addressing the column name issue\n",
        "\n"
      ],
      "metadata": {
        "id": "bnXKrDmwZoIq"
      }
    },
    {
      "cell_type": "code",
      "source": [
        "# Set the column names from the first row\n",
        "df.columns = df.iloc[0]"
      ],
      "metadata": {
        "id": "LVq1LkezY_UK"
      },
      "execution_count": 5,
      "outputs": []
    },
    {
      "cell_type": "code",
      "source": [
        "# Remove the row that contains the column names\n",
        "df = df[1:]"
      ],
      "metadata": {
        "id": "lYUJSgCeaIhE"
      },
      "execution_count": 6,
      "outputs": []
    },
    {
      "cell_type": "code",
      "source": [
        "# Add column name for first column\n",
        "df = df.rename(columns={np.nan:\"Year\"})\n",
        "df.head()"
      ],
      "metadata": {
        "colab": {
          "base_uri": "https://localhost:8080/",
          "height": 206
        },
        "id": "uGmEbSCabVu5",
        "outputId": "b12dcda1-18ff-404c-c642-cd342ea37a18"
      },
      "execution_count": 7,
      "outputs": [
        {
          "output_type": "execute_result",
          "data": {
            "text/plain": [
              "0     Year National Dublin  Cork Galway Limerick Waterford Other Areas  NaN  \\\n",
              "1  1969/70      NaN   6,603  NaN    NaN      NaN       NaN         NaN  NaN   \n",
              "2  1970/71      NaN   7,618  NaN    NaN      NaN       NaN       6,427  NaN   \n",
              "3  1971/72      NaN   8,888  NaN    NaN      NaN       NaN       7,198  NaN   \n",
              "4  1972/73      NaN   9,828  NaN    NaN      NaN       NaN       8,054  NaN   \n",
              "5     1974   11,817  11,777  NaN    NaN      NaN       NaN      10,851  NaN   \n",
              "\n",
              "0  NaN  NaN  NaN  NaN  NaN  \n",
              "1  NaN  NaN  NaN  NaN  NaN  \n",
              "2  NaN  NaN  NaN  NaN  NaN  \n",
              "3  NaN  NaN  NaN  NaN  NaN  \n",
              "4  NaN  NaN  NaN  NaN  NaN  \n",
              "5  NaN  NaN  NaN  NaN  NaN  "
            ],
            "text/html": [
              "\n",
              "  <div id=\"df-6cd89bad-083b-4178-9603-2049cddb60c9\">\n",
              "    <div class=\"colab-df-container\">\n",
              "      <div>\n",
              "<style scoped>\n",
              "    .dataframe tbody tr th:only-of-type {\n",
              "        vertical-align: middle;\n",
              "    }\n",
              "\n",
              "    .dataframe tbody tr th {\n",
              "        vertical-align: top;\n",
              "    }\n",
              "\n",
              "    .dataframe thead th {\n",
              "        text-align: right;\n",
              "    }\n",
              "</style>\n",
              "<table border=\"1\" class=\"dataframe\">\n",
              "  <thead>\n",
              "    <tr style=\"text-align: right;\">\n",
              "      <th></th>\n",
              "      <th>Year</th>\n",
              "      <th>National</th>\n",
              "      <th>Dublin</th>\n",
              "      <th>Cork</th>\n",
              "      <th>Galway</th>\n",
              "      <th>Limerick</th>\n",
              "      <th>Waterford</th>\n",
              "      <th>Other Areas</th>\n",
              "      <th>NaN</th>\n",
              "      <th>NaN</th>\n",
              "      <th>NaN</th>\n",
              "      <th>NaN</th>\n",
              "      <th>NaN</th>\n",
              "      <th>NaN</th>\n",
              "    </tr>\n",
              "  </thead>\n",
              "  <tbody>\n",
              "    <tr>\n",
              "      <th>1</th>\n",
              "      <td>1969/70</td>\n",
              "      <td>NaN</td>\n",
              "      <td>6,603</td>\n",
              "      <td>NaN</td>\n",
              "      <td>NaN</td>\n",
              "      <td>NaN</td>\n",
              "      <td>NaN</td>\n",
              "      <td>NaN</td>\n",
              "      <td>NaN</td>\n",
              "      <td>NaN</td>\n",
              "      <td>NaN</td>\n",
              "      <td>NaN</td>\n",
              "      <td>NaN</td>\n",
              "      <td>NaN</td>\n",
              "    </tr>\n",
              "    <tr>\n",
              "      <th>2</th>\n",
              "      <td>1970/71</td>\n",
              "      <td>NaN</td>\n",
              "      <td>7,618</td>\n",
              "      <td>NaN</td>\n",
              "      <td>NaN</td>\n",
              "      <td>NaN</td>\n",
              "      <td>NaN</td>\n",
              "      <td>6,427</td>\n",
              "      <td>NaN</td>\n",
              "      <td>NaN</td>\n",
              "      <td>NaN</td>\n",
              "      <td>NaN</td>\n",
              "      <td>NaN</td>\n",
              "      <td>NaN</td>\n",
              "    </tr>\n",
              "    <tr>\n",
              "      <th>3</th>\n",
              "      <td>1971/72</td>\n",
              "      <td>NaN</td>\n",
              "      <td>8,888</td>\n",
              "      <td>NaN</td>\n",
              "      <td>NaN</td>\n",
              "      <td>NaN</td>\n",
              "      <td>NaN</td>\n",
              "      <td>7,198</td>\n",
              "      <td>NaN</td>\n",
              "      <td>NaN</td>\n",
              "      <td>NaN</td>\n",
              "      <td>NaN</td>\n",
              "      <td>NaN</td>\n",
              "      <td>NaN</td>\n",
              "    </tr>\n",
              "    <tr>\n",
              "      <th>4</th>\n",
              "      <td>1972/73</td>\n",
              "      <td>NaN</td>\n",
              "      <td>9,828</td>\n",
              "      <td>NaN</td>\n",
              "      <td>NaN</td>\n",
              "      <td>NaN</td>\n",
              "      <td>NaN</td>\n",
              "      <td>8,054</td>\n",
              "      <td>NaN</td>\n",
              "      <td>NaN</td>\n",
              "      <td>NaN</td>\n",
              "      <td>NaN</td>\n",
              "      <td>NaN</td>\n",
              "      <td>NaN</td>\n",
              "    </tr>\n",
              "    <tr>\n",
              "      <th>5</th>\n",
              "      <td>1974</td>\n",
              "      <td>11,817</td>\n",
              "      <td>11,777</td>\n",
              "      <td>NaN</td>\n",
              "      <td>NaN</td>\n",
              "      <td>NaN</td>\n",
              "      <td>NaN</td>\n",
              "      <td>10,851</td>\n",
              "      <td>NaN</td>\n",
              "      <td>NaN</td>\n",
              "      <td>NaN</td>\n",
              "      <td>NaN</td>\n",
              "      <td>NaN</td>\n",
              "      <td>NaN</td>\n",
              "    </tr>\n",
              "  </tbody>\n",
              "</table>\n",
              "</div>\n",
              "      <button class=\"colab-df-convert\" onclick=\"convertToInteractive('df-6cd89bad-083b-4178-9603-2049cddb60c9')\"\n",
              "              title=\"Convert this dataframe to an interactive table.\"\n",
              "              style=\"display:none;\">\n",
              "        \n",
              "  <svg xmlns=\"http://www.w3.org/2000/svg\" height=\"24px\"viewBox=\"0 0 24 24\"\n",
              "       width=\"24px\">\n",
              "    <path d=\"M0 0h24v24H0V0z\" fill=\"none\"/>\n",
              "    <path d=\"M18.56 5.44l.94 2.06.94-2.06 2.06-.94-2.06-.94-.94-2.06-.94 2.06-2.06.94zm-11 1L8.5 8.5l.94-2.06 2.06-.94-2.06-.94L8.5 2.5l-.94 2.06-2.06.94zm10 10l.94 2.06.94-2.06 2.06-.94-2.06-.94-.94-2.06-.94 2.06-2.06.94z\"/><path d=\"M17.41 7.96l-1.37-1.37c-.4-.4-.92-.59-1.43-.59-.52 0-1.04.2-1.43.59L10.3 9.45l-7.72 7.72c-.78.78-.78 2.05 0 2.83L4 21.41c.39.39.9.59 1.41.59.51 0 1.02-.2 1.41-.59l7.78-7.78 2.81-2.81c.8-.78.8-2.07 0-2.86zM5.41 20L4 18.59l7.72-7.72 1.47 1.35L5.41 20z\"/>\n",
              "  </svg>\n",
              "      </button>\n",
              "      \n",
              "  <style>\n",
              "    .colab-df-container {\n",
              "      display:flex;\n",
              "      flex-wrap:wrap;\n",
              "      gap: 12px;\n",
              "    }\n",
              "\n",
              "    .colab-df-convert {\n",
              "      background-color: #E8F0FE;\n",
              "      border: none;\n",
              "      border-radius: 50%;\n",
              "      cursor: pointer;\n",
              "      display: none;\n",
              "      fill: #1967D2;\n",
              "      height: 32px;\n",
              "      padding: 0 0 0 0;\n",
              "      width: 32px;\n",
              "    }\n",
              "\n",
              "    .colab-df-convert:hover {\n",
              "      background-color: #E2EBFA;\n",
              "      box-shadow: 0px 1px 2px rgba(60, 64, 67, 0.3), 0px 1px 3px 1px rgba(60, 64, 67, 0.15);\n",
              "      fill: #174EA6;\n",
              "    }\n",
              "\n",
              "    [theme=dark] .colab-df-convert {\n",
              "      background-color: #3B4455;\n",
              "      fill: #D2E3FC;\n",
              "    }\n",
              "\n",
              "    [theme=dark] .colab-df-convert:hover {\n",
              "      background-color: #434B5C;\n",
              "      box-shadow: 0px 1px 3px 1px rgba(0, 0, 0, 0.15);\n",
              "      filter: drop-shadow(0px 1px 2px rgba(0, 0, 0, 0.3));\n",
              "      fill: #FFFFFF;\n",
              "    }\n",
              "  </style>\n",
              "\n",
              "      <script>\n",
              "        const buttonEl =\n",
              "          document.querySelector('#df-6cd89bad-083b-4178-9603-2049cddb60c9 button.colab-df-convert');\n",
              "        buttonEl.style.display =\n",
              "          google.colab.kernel.accessAllowed ? 'block' : 'none';\n",
              "\n",
              "        async function convertToInteractive(key) {\n",
              "          const element = document.querySelector('#df-6cd89bad-083b-4178-9603-2049cddb60c9');\n",
              "          const dataTable =\n",
              "            await google.colab.kernel.invokeFunction('convertToInteractive',\n",
              "                                                     [key], {});\n",
              "          if (!dataTable) return;\n",
              "\n",
              "          const docLinkHtml = 'Like what you see? Visit the ' +\n",
              "            '<a target=\"_blank\" href=https://colab.research.google.com/notebooks/data_table.ipynb>data table notebook</a>'\n",
              "            + ' to learn more about interactive tables.';\n",
              "          element.innerHTML = '';\n",
              "          dataTable['output_type'] = 'display_data';\n",
              "          await google.colab.output.renderOutput(dataTable, element);\n",
              "          const docLink = document.createElement('div');\n",
              "          docLink.innerHTML = docLinkHtml;\n",
              "          element.appendChild(docLink);\n",
              "        }\n",
              "      </script>\n",
              "    </div>\n",
              "  </div>\n",
              "  "
            ]
          },
          "metadata": {},
          "execution_count": 7
        }
      ]
    },
    {
      "cell_type": "code",
      "source": [
        "df.columns"
      ],
      "metadata": {
        "colab": {
          "base_uri": "https://localhost:8080/"
        },
        "id": "Lmu1nq_DLNiw",
        "outputId": "191e8b73-0ca2-435f-be96-3b36e264a713"
      },
      "execution_count": 8,
      "outputs": [
        {
          "output_type": "execute_result",
          "data": {
            "text/plain": [
              "Index([       'Year',    'National',     'Dublin ',        'Cork',\n",
              "            'Galway',    'Limerick',   'Waterford', 'Other Areas',\n",
              "                 nan,           nan,           nan,           nan,\n",
              "                 nan,           nan],\n",
              "      dtype='object', name=0)"
            ]
          },
          "metadata": {},
          "execution_count": 8
        }
      ]
    },
    {
      "cell_type": "markdown",
      "source": [
        "*Dublin column name has a trailing white space in it. It will cause problems in future. We will address that issue in next step.*\n",
        "\n"
      ],
      "metadata": {
        "id": "mc4P6gmaK-07"
      }
    },
    {
      "cell_type": "code",
      "source": [
        "df = df.rename(columns={'Dublin ':\"Dublin\"})\n",
        "df.columns"
      ],
      "metadata": {
        "colab": {
          "base_uri": "https://localhost:8080/"
        },
        "id": "kLSgAsDKLKOc",
        "outputId": "f2c86ba9-77d3-4e8b-ee09-47f52899d2b2"
      },
      "execution_count": 9,
      "outputs": [
        {
          "output_type": "execute_result",
          "data": {
            "text/plain": [
              "Index([       'Year',    'National',      'Dublin',        'Cork',\n",
              "            'Galway',    'Limerick',   'Waterford', 'Other Areas',\n",
              "                 nan,           nan,           nan,           nan,\n",
              "                 nan,           nan],\n",
              "      dtype='object', name=0)"
            ]
          },
          "metadata": {},
          "execution_count": 9
        }
      ]
    },
    {
      "cell_type": "markdown",
      "source": [
        "*We will be addressing that null column issue in next step.*\n",
        "\n"
      ],
      "metadata": {
        "id": "icLsxF2Kawls"
      }
    },
    {
      "cell_type": "markdown",
      "source": [
        "\n",
        "\n",
        "##2.   Dropping null columns\n",
        "\n"
      ],
      "metadata": {
        "id": "merHYpYncMOt"
      }
    },
    {
      "cell_type": "code",
      "source": [
        "# Get the boolean mask for non-NaN column names\n",
        "mask = ~df.columns.isna()\n",
        "\n",
        "# Select the columns using the mask\n",
        "df = df.loc[:, mask]\n",
        "df.head()"
      ],
      "metadata": {
        "colab": {
          "base_uri": "https://localhost:8080/",
          "height": 206
        },
        "id": "NKzizywucHyH",
        "outputId": "46a9a536-1cc7-4dc7-bd18-389119fef47b"
      },
      "execution_count": 10,
      "outputs": [
        {
          "output_type": "execute_result",
          "data": {
            "text/plain": [
              "0     Year National  Dublin Cork Galway Limerick Waterford Other Areas\n",
              "1  1969/70      NaN   6,603  NaN    NaN      NaN       NaN         NaN\n",
              "2  1970/71      NaN   7,618  NaN    NaN      NaN       NaN       6,427\n",
              "3  1971/72      NaN   8,888  NaN    NaN      NaN       NaN       7,198\n",
              "4  1972/73      NaN   9,828  NaN    NaN      NaN       NaN       8,054\n",
              "5     1974   11,817  11,777  NaN    NaN      NaN       NaN      10,851"
            ],
            "text/html": [
              "\n",
              "  <div id=\"df-e2103735-5fbc-40f9-9954-1e23c840e277\">\n",
              "    <div class=\"colab-df-container\">\n",
              "      <div>\n",
              "<style scoped>\n",
              "    .dataframe tbody tr th:only-of-type {\n",
              "        vertical-align: middle;\n",
              "    }\n",
              "\n",
              "    .dataframe tbody tr th {\n",
              "        vertical-align: top;\n",
              "    }\n",
              "\n",
              "    .dataframe thead th {\n",
              "        text-align: right;\n",
              "    }\n",
              "</style>\n",
              "<table border=\"1\" class=\"dataframe\">\n",
              "  <thead>\n",
              "    <tr style=\"text-align: right;\">\n",
              "      <th></th>\n",
              "      <th>Year</th>\n",
              "      <th>National</th>\n",
              "      <th>Dublin</th>\n",
              "      <th>Cork</th>\n",
              "      <th>Galway</th>\n",
              "      <th>Limerick</th>\n",
              "      <th>Waterford</th>\n",
              "      <th>Other Areas</th>\n",
              "    </tr>\n",
              "  </thead>\n",
              "  <tbody>\n",
              "    <tr>\n",
              "      <th>1</th>\n",
              "      <td>1969/70</td>\n",
              "      <td>NaN</td>\n",
              "      <td>6,603</td>\n",
              "      <td>NaN</td>\n",
              "      <td>NaN</td>\n",
              "      <td>NaN</td>\n",
              "      <td>NaN</td>\n",
              "      <td>NaN</td>\n",
              "    </tr>\n",
              "    <tr>\n",
              "      <th>2</th>\n",
              "      <td>1970/71</td>\n",
              "      <td>NaN</td>\n",
              "      <td>7,618</td>\n",
              "      <td>NaN</td>\n",
              "      <td>NaN</td>\n",
              "      <td>NaN</td>\n",
              "      <td>NaN</td>\n",
              "      <td>6,427</td>\n",
              "    </tr>\n",
              "    <tr>\n",
              "      <th>3</th>\n",
              "      <td>1971/72</td>\n",
              "      <td>NaN</td>\n",
              "      <td>8,888</td>\n",
              "      <td>NaN</td>\n",
              "      <td>NaN</td>\n",
              "      <td>NaN</td>\n",
              "      <td>NaN</td>\n",
              "      <td>7,198</td>\n",
              "    </tr>\n",
              "    <tr>\n",
              "      <th>4</th>\n",
              "      <td>1972/73</td>\n",
              "      <td>NaN</td>\n",
              "      <td>9,828</td>\n",
              "      <td>NaN</td>\n",
              "      <td>NaN</td>\n",
              "      <td>NaN</td>\n",
              "      <td>NaN</td>\n",
              "      <td>8,054</td>\n",
              "    </tr>\n",
              "    <tr>\n",
              "      <th>5</th>\n",
              "      <td>1974</td>\n",
              "      <td>11,817</td>\n",
              "      <td>11,777</td>\n",
              "      <td>NaN</td>\n",
              "      <td>NaN</td>\n",
              "      <td>NaN</td>\n",
              "      <td>NaN</td>\n",
              "      <td>10,851</td>\n",
              "    </tr>\n",
              "  </tbody>\n",
              "</table>\n",
              "</div>\n",
              "      <button class=\"colab-df-convert\" onclick=\"convertToInteractive('df-e2103735-5fbc-40f9-9954-1e23c840e277')\"\n",
              "              title=\"Convert this dataframe to an interactive table.\"\n",
              "              style=\"display:none;\">\n",
              "        \n",
              "  <svg xmlns=\"http://www.w3.org/2000/svg\" height=\"24px\"viewBox=\"0 0 24 24\"\n",
              "       width=\"24px\">\n",
              "    <path d=\"M0 0h24v24H0V0z\" fill=\"none\"/>\n",
              "    <path d=\"M18.56 5.44l.94 2.06.94-2.06 2.06-.94-2.06-.94-.94-2.06-.94 2.06-2.06.94zm-11 1L8.5 8.5l.94-2.06 2.06-.94-2.06-.94L8.5 2.5l-.94 2.06-2.06.94zm10 10l.94 2.06.94-2.06 2.06-.94-2.06-.94-.94-2.06-.94 2.06-2.06.94z\"/><path d=\"M17.41 7.96l-1.37-1.37c-.4-.4-.92-.59-1.43-.59-.52 0-1.04.2-1.43.59L10.3 9.45l-7.72 7.72c-.78.78-.78 2.05 0 2.83L4 21.41c.39.39.9.59 1.41.59.51 0 1.02-.2 1.41-.59l7.78-7.78 2.81-2.81c.8-.78.8-2.07 0-2.86zM5.41 20L4 18.59l7.72-7.72 1.47 1.35L5.41 20z\"/>\n",
              "  </svg>\n",
              "      </button>\n",
              "      \n",
              "  <style>\n",
              "    .colab-df-container {\n",
              "      display:flex;\n",
              "      flex-wrap:wrap;\n",
              "      gap: 12px;\n",
              "    }\n",
              "\n",
              "    .colab-df-convert {\n",
              "      background-color: #E8F0FE;\n",
              "      border: none;\n",
              "      border-radius: 50%;\n",
              "      cursor: pointer;\n",
              "      display: none;\n",
              "      fill: #1967D2;\n",
              "      height: 32px;\n",
              "      padding: 0 0 0 0;\n",
              "      width: 32px;\n",
              "    }\n",
              "\n",
              "    .colab-df-convert:hover {\n",
              "      background-color: #E2EBFA;\n",
              "      box-shadow: 0px 1px 2px rgba(60, 64, 67, 0.3), 0px 1px 3px 1px rgba(60, 64, 67, 0.15);\n",
              "      fill: #174EA6;\n",
              "    }\n",
              "\n",
              "    [theme=dark] .colab-df-convert {\n",
              "      background-color: #3B4455;\n",
              "      fill: #D2E3FC;\n",
              "    }\n",
              "\n",
              "    [theme=dark] .colab-df-convert:hover {\n",
              "      background-color: #434B5C;\n",
              "      box-shadow: 0px 1px 3px 1px rgba(0, 0, 0, 0.15);\n",
              "      filter: drop-shadow(0px 1px 2px rgba(0, 0, 0, 0.3));\n",
              "      fill: #FFFFFF;\n",
              "    }\n",
              "  </style>\n",
              "\n",
              "      <script>\n",
              "        const buttonEl =\n",
              "          document.querySelector('#df-e2103735-5fbc-40f9-9954-1e23c840e277 button.colab-df-convert');\n",
              "        buttonEl.style.display =\n",
              "          google.colab.kernel.accessAllowed ? 'block' : 'none';\n",
              "\n",
              "        async function convertToInteractive(key) {\n",
              "          const element = document.querySelector('#df-e2103735-5fbc-40f9-9954-1e23c840e277');\n",
              "          const dataTable =\n",
              "            await google.colab.kernel.invokeFunction('convertToInteractive',\n",
              "                                                     [key], {});\n",
              "          if (!dataTable) return;\n",
              "\n",
              "          const docLinkHtml = 'Like what you see? Visit the ' +\n",
              "            '<a target=\"_blank\" href=https://colab.research.google.com/notebooks/data_table.ipynb>data table notebook</a>'\n",
              "            + ' to learn more about interactive tables.';\n",
              "          element.innerHTML = '';\n",
              "          dataTable['output_type'] = 'display_data';\n",
              "          await google.colab.output.renderOutput(dataTable, element);\n",
              "          const docLink = document.createElement('div');\n",
              "          docLink.innerHTML = docLinkHtml;\n",
              "          element.appendChild(docLink);\n",
              "        }\n",
              "      </script>\n",
              "    </div>\n",
              "  </div>\n",
              "  "
            ]
          },
          "metadata": {},
          "execution_count": 10
        }
      ]
    },
    {
      "cell_type": "markdown",
      "source": [
        "*In **Year** column, we can see years with a forward slash. There are null values in other columns as well. This is causing inconsistency. We will address this issue to maintain consistency.*\n",
        "\n"
      ],
      "metadata": {
        "id": "Tye_UVH6CAzS"
      }
    },
    {
      "cell_type": "markdown",
      "source": [
        "\n",
        "\n",
        "##3.   Dropping null values\n"
      ],
      "metadata": {
        "id": "tM0xmx7ZCmej"
      }
    },
    {
      "cell_type": "code",
      "source": [
        "df.dropna(inplace=True)\n",
        "df = df.reset_index(drop=True)\n",
        "# By default, when you perform operations like filtering or dropping rows, \n",
        "# the index of the DataFrame may become disorganized or contain gaps. \n",
        "# The reset_index() function allows you to reassign a new sequential index to \n",
        "# the DataFrame and discard the old index.\n",
        "df.head()"
      ],
      "metadata": {
        "colab": {
          "base_uri": "https://localhost:8080/",
          "height": 206
        },
        "id": "r9bXL5ZQCxoo",
        "outputId": "8b581050-49fd-46bb-d88a-614f47505b0f"
      },
      "execution_count": 11,
      "outputs": [
        {
          "output_type": "execute_result",
          "data": {
            "text/plain": [
              "0  Year National  Dublin    Cork  Galway Limerick Waterford Other Areas\n",
              "0  1976   15,303  15,850  15,139  16,858   14,018    14,545      15,361\n",
              "1  1977   17,925  18,778  17,898  20,792   16,681    16,505      18,025\n",
              "2  1978   21,895  22,920  21,427  27,862   20,136    20,381      22,839\n",
              "3  1979   27,598  30,092  27,734  29,539   25,847    22,565      27,137\n",
              "4  1980   30,927  34,129  32,387  32,978   29,656    26,046      32,663"
            ],
            "text/html": [
              "\n",
              "  <div id=\"df-a47c82d5-0116-468b-97f6-934027ba6f3f\">\n",
              "    <div class=\"colab-df-container\">\n",
              "      <div>\n",
              "<style scoped>\n",
              "    .dataframe tbody tr th:only-of-type {\n",
              "        vertical-align: middle;\n",
              "    }\n",
              "\n",
              "    .dataframe tbody tr th {\n",
              "        vertical-align: top;\n",
              "    }\n",
              "\n",
              "    .dataframe thead th {\n",
              "        text-align: right;\n",
              "    }\n",
              "</style>\n",
              "<table border=\"1\" class=\"dataframe\">\n",
              "  <thead>\n",
              "    <tr style=\"text-align: right;\">\n",
              "      <th></th>\n",
              "      <th>Year</th>\n",
              "      <th>National</th>\n",
              "      <th>Dublin</th>\n",
              "      <th>Cork</th>\n",
              "      <th>Galway</th>\n",
              "      <th>Limerick</th>\n",
              "      <th>Waterford</th>\n",
              "      <th>Other Areas</th>\n",
              "    </tr>\n",
              "  </thead>\n",
              "  <tbody>\n",
              "    <tr>\n",
              "      <th>0</th>\n",
              "      <td>1976</td>\n",
              "      <td>15,303</td>\n",
              "      <td>15,850</td>\n",
              "      <td>15,139</td>\n",
              "      <td>16,858</td>\n",
              "      <td>14,018</td>\n",
              "      <td>14,545</td>\n",
              "      <td>15,361</td>\n",
              "    </tr>\n",
              "    <tr>\n",
              "      <th>1</th>\n",
              "      <td>1977</td>\n",
              "      <td>17,925</td>\n",
              "      <td>18,778</td>\n",
              "      <td>17,898</td>\n",
              "      <td>20,792</td>\n",
              "      <td>16,681</td>\n",
              "      <td>16,505</td>\n",
              "      <td>18,025</td>\n",
              "    </tr>\n",
              "    <tr>\n",
              "      <th>2</th>\n",
              "      <td>1978</td>\n",
              "      <td>21,895</td>\n",
              "      <td>22,920</td>\n",
              "      <td>21,427</td>\n",
              "      <td>27,862</td>\n",
              "      <td>20,136</td>\n",
              "      <td>20,381</td>\n",
              "      <td>22,839</td>\n",
              "    </tr>\n",
              "    <tr>\n",
              "      <th>3</th>\n",
              "      <td>1979</td>\n",
              "      <td>27,598</td>\n",
              "      <td>30,092</td>\n",
              "      <td>27,734</td>\n",
              "      <td>29,539</td>\n",
              "      <td>25,847</td>\n",
              "      <td>22,565</td>\n",
              "      <td>27,137</td>\n",
              "    </tr>\n",
              "    <tr>\n",
              "      <th>4</th>\n",
              "      <td>1980</td>\n",
              "      <td>30,927</td>\n",
              "      <td>34,129</td>\n",
              "      <td>32,387</td>\n",
              "      <td>32,978</td>\n",
              "      <td>29,656</td>\n",
              "      <td>26,046</td>\n",
              "      <td>32,663</td>\n",
              "    </tr>\n",
              "  </tbody>\n",
              "</table>\n",
              "</div>\n",
              "      <button class=\"colab-df-convert\" onclick=\"convertToInteractive('df-a47c82d5-0116-468b-97f6-934027ba6f3f')\"\n",
              "              title=\"Convert this dataframe to an interactive table.\"\n",
              "              style=\"display:none;\">\n",
              "        \n",
              "  <svg xmlns=\"http://www.w3.org/2000/svg\" height=\"24px\"viewBox=\"0 0 24 24\"\n",
              "       width=\"24px\">\n",
              "    <path d=\"M0 0h24v24H0V0z\" fill=\"none\"/>\n",
              "    <path d=\"M18.56 5.44l.94 2.06.94-2.06 2.06-.94-2.06-.94-.94-2.06-.94 2.06-2.06.94zm-11 1L8.5 8.5l.94-2.06 2.06-.94-2.06-.94L8.5 2.5l-.94 2.06-2.06.94zm10 10l.94 2.06.94-2.06 2.06-.94-2.06-.94-.94-2.06-.94 2.06-2.06.94z\"/><path d=\"M17.41 7.96l-1.37-1.37c-.4-.4-.92-.59-1.43-.59-.52 0-1.04.2-1.43.59L10.3 9.45l-7.72 7.72c-.78.78-.78 2.05 0 2.83L4 21.41c.39.39.9.59 1.41.59.51 0 1.02-.2 1.41-.59l7.78-7.78 2.81-2.81c.8-.78.8-2.07 0-2.86zM5.41 20L4 18.59l7.72-7.72 1.47 1.35L5.41 20z\"/>\n",
              "  </svg>\n",
              "      </button>\n",
              "      \n",
              "  <style>\n",
              "    .colab-df-container {\n",
              "      display:flex;\n",
              "      flex-wrap:wrap;\n",
              "      gap: 12px;\n",
              "    }\n",
              "\n",
              "    .colab-df-convert {\n",
              "      background-color: #E8F0FE;\n",
              "      border: none;\n",
              "      border-radius: 50%;\n",
              "      cursor: pointer;\n",
              "      display: none;\n",
              "      fill: #1967D2;\n",
              "      height: 32px;\n",
              "      padding: 0 0 0 0;\n",
              "      width: 32px;\n",
              "    }\n",
              "\n",
              "    .colab-df-convert:hover {\n",
              "      background-color: #E2EBFA;\n",
              "      box-shadow: 0px 1px 2px rgba(60, 64, 67, 0.3), 0px 1px 3px 1px rgba(60, 64, 67, 0.15);\n",
              "      fill: #174EA6;\n",
              "    }\n",
              "\n",
              "    [theme=dark] .colab-df-convert {\n",
              "      background-color: #3B4455;\n",
              "      fill: #D2E3FC;\n",
              "    }\n",
              "\n",
              "    [theme=dark] .colab-df-convert:hover {\n",
              "      background-color: #434B5C;\n",
              "      box-shadow: 0px 1px 3px 1px rgba(0, 0, 0, 0.15);\n",
              "      filter: drop-shadow(0px 1px 2px rgba(0, 0, 0, 0.3));\n",
              "      fill: #FFFFFF;\n",
              "    }\n",
              "  </style>\n",
              "\n",
              "      <script>\n",
              "        const buttonEl =\n",
              "          document.querySelector('#df-a47c82d5-0116-468b-97f6-934027ba6f3f button.colab-df-convert');\n",
              "        buttonEl.style.display =\n",
              "          google.colab.kernel.accessAllowed ? 'block' : 'none';\n",
              "\n",
              "        async function convertToInteractive(key) {\n",
              "          const element = document.querySelector('#df-a47c82d5-0116-468b-97f6-934027ba6f3f');\n",
              "          const dataTable =\n",
              "            await google.colab.kernel.invokeFunction('convertToInteractive',\n",
              "                                                     [key], {});\n",
              "          if (!dataTable) return;\n",
              "\n",
              "          const docLinkHtml = 'Like what you see? Visit the ' +\n",
              "            '<a target=\"_blank\" href=https://colab.research.google.com/notebooks/data_table.ipynb>data table notebook</a>'\n",
              "            + ' to learn more about interactive tables.';\n",
              "          element.innerHTML = '';\n",
              "          dataTable['output_type'] = 'display_data';\n",
              "          await google.colab.output.renderOutput(dataTable, element);\n",
              "          const docLink = document.createElement('div');\n",
              "          docLink.innerHTML = docLinkHtml;\n",
              "          element.appendChild(docLink);\n",
              "        }\n",
              "      </script>\n",
              "    </div>\n",
              "  </div>\n",
              "  "
            ]
          },
          "metadata": {},
          "execution_count": 11
        }
      ]
    },
    {
      "cell_type": "code",
      "source": [
        "df.shape"
      ],
      "metadata": {
        "colab": {
          "base_uri": "https://localhost:8080/"
        },
        "id": "-XIPYLwMFyac",
        "outputId": "48b4cf0e-fec9-469f-c51c-4220da281afb"
      },
      "execution_count": 12,
      "outputs": [
        {
          "output_type": "execute_result",
          "data": {
            "text/plain": [
              "(40, 8)"
            ]
          },
          "metadata": {},
          "execution_count": 12
        }
      ]
    },
    {
      "cell_type": "markdown",
      "source": [
        "*It is apparent that rows of our dataset are reduced from 78 to 40 and columns from 14 to 8.*\n",
        "\n"
      ],
      "metadata": {
        "id": "-yeTyq5EGcNI"
      }
    },
    {
      "cell_type": "code",
      "source": [
        "df.info()"
      ],
      "metadata": {
        "colab": {
          "base_uri": "https://localhost:8080/"
        },
        "id": "u7pP-5uoNUzL",
        "outputId": "615e93e6-65b1-443d-8b12-7858e91f106f"
      },
      "execution_count": 13,
      "outputs": [
        {
          "output_type": "stream",
          "name": "stdout",
          "text": [
            "<class 'pandas.core.frame.DataFrame'>\n",
            "RangeIndex: 40 entries, 0 to 39\n",
            "Data columns (total 8 columns):\n",
            " #   Column       Non-Null Count  Dtype \n",
            "---  ------       --------------  ----- \n",
            " 0   Year         40 non-null     object\n",
            " 1   National     40 non-null     object\n",
            " 2   Dublin       40 non-null     object\n",
            " 3   Cork         40 non-null     object\n",
            " 4   Galway       40 non-null     object\n",
            " 5   Limerick     40 non-null     object\n",
            " 6   Waterford    40 non-null     object\n",
            " 7   Other Areas  40 non-null     object\n",
            "dtypes: object(8)\n",
            "memory usage: 2.6+ KB\n"
          ]
        }
      ]
    },
    {
      "cell_type": "markdown",
      "source": [
        "*It is evident from above output that all of our columns are mainly of integer nature. Having them in object will cause problems in numerical operations and calculations. We will convert them into numeric data type in next step.*\n",
        "\n"
      ],
      "metadata": {
        "id": "abSLVKTiOdM5"
      }
    },
    {
      "cell_type": "markdown",
      "source": [
        "\n",
        "\n",
        "##4.   Typecasting columns into numeric\n"
      ],
      "metadata": {
        "id": "mWvnKVg5OyyL"
      }
    },
    {
      "cell_type": "code",
      "source": [
        "df[df.columns] = df[df.columns].apply(lambda x: pd.to_numeric(x.str.replace(',', ''), errors='coerce'))\n",
        "# In this modified code, the lambda function is used to apply pd.to_numeric() to each column, after removing the commas using x.str.replace(',', ''). \n",
        "# The errors='coerce' parameter is also added to handle any values that cannot be converted to numeric types."
      ],
      "metadata": {
        "id": "P7sHim38O_st"
      },
      "execution_count": 14,
      "outputs": []
    },
    {
      "cell_type": "code",
      "source": [
        "df.info()"
      ],
      "metadata": {
        "colab": {
          "base_uri": "https://localhost:8080/"
        },
        "outputId": "37481f30-4146-4267-ae25-deb2bb597867",
        "id": "tCyLhifSQ4aa"
      },
      "execution_count": 15,
      "outputs": [
        {
          "output_type": "stream",
          "name": "stdout",
          "text": [
            "<class 'pandas.core.frame.DataFrame'>\n",
            "RangeIndex: 40 entries, 0 to 39\n",
            "Data columns (total 8 columns):\n",
            " #   Column       Non-Null Count  Dtype\n",
            "---  ------       --------------  -----\n",
            " 0   Year         40 non-null     int64\n",
            " 1   National     40 non-null     int64\n",
            " 2   Dublin       40 non-null     int64\n",
            " 3   Cork         40 non-null     int64\n",
            " 4   Galway       40 non-null     int64\n",
            " 5   Limerick     40 non-null     int64\n",
            " 6   Waterford    40 non-null     int64\n",
            " 7   Other Areas  40 non-null     int64\n",
            "dtypes: int64(8)\n",
            "memory usage: 2.6 KB\n"
          ]
        }
      ]
    },
    {
      "cell_type": "markdown",
      "source": [
        "# Exploratory Data Analysis"
      ],
      "metadata": {
        "id": "Onk3_ytpHjpZ"
      }
    },
    {
      "cell_type": "markdown",
      "source": [
        "\n",
        "\n",
        "##1.   Price trend since 1975\n"
      ],
      "metadata": {
        "id": "4pdkJj7Jihaf"
      }
    },
    {
      "cell_type": "code",
      "source": [
        "# x-axis array\n",
        "x = df['Year'] \n",
        "\n",
        "# y-axis arrays \n",
        "y_national = np.array(df['National'])\n",
        "y_dublin = np.array(df['Dublin'])\n",
        "y_cork = np.array(df['Cork'])\n",
        "y_galway = np.array(df['Galway'])\n",
        "y_limerick = np.array(df['Limerick'])\n",
        "y_waterford = np.array(df['Waterford'])\n",
        "y_other_areas = np.array(df['Other Areas'])\n",
        "\n",
        "# plotting x-axis and\n",
        "plt.plot(x, y_national, label='National')\n",
        "plt.plot(x, y_dublin, label='Dublin')\n",
        "plt.plot(x, y_cork, label='Cork')\n",
        "plt.plot(x, y_galway, label='Galway')\n",
        "plt.plot(x, y_limerick, label='Limerick')\n",
        "plt.plot(x, y_waterford, label='Waterford')\n",
        "plt.plot(x, y_other_areas, label='Other Areas')\n",
        "\n",
        "# Add labels and legend\n",
        "plt.xlabel('Year')\n",
        "plt.ylabel('Price')\n",
        "plt.legend()\n",
        "\n",
        "# ensures that the x-axis tick labels are displayed as integers.\n",
        "plt.gca().xaxis.set_major_locator(plt.MaxNLocator(integer=True))\n",
        "\n",
        "plt.show()"
      ],
      "metadata": {
        "colab": {
          "base_uri": "https://localhost:8080/",
          "height": 449
        },
        "outputId": "a5ecc384-ef1e-4889-ec02-8459eb453230",
        "id": "TjySuAuaiGMU"
      },
      "execution_count": 45,
      "outputs": [
        {
          "output_type": "display_data",
          "data": {
            "text/plain": [
              "<Figure size 640x480 with 1 Axes>"
            ],
            "image/png": "[encoded data removed]"
          },
          "metadata": {}
        }
      ]
    },
    {
      "cell_type": "markdown",
      "source": [
        "*The above line chart shows gradual increase in prices starting from 1975, followed by a steep ascent. The peak of this ascent is observed in 2005, after which there is a sudden drop, maintaining a downward trend until 2015. The significant rise and subsequent drop in house prices suggest the influence of external factors.*\n",
        "\n"
      ],
      "metadata": {
        "id": "8t8GP4eUioya"
      }
    },
    {
      "cell_type": "markdown",
      "source": [
        "\n",
        "\n",
        "##2.   Price trend in latest 5 years\n"
      ],
      "metadata": {
        "id": "jtPR8c7Ra7el"
      }
    },
    {
      "cell_type": "code",
      "source": [
        "# x-axis array\n",
        "# years ranging from 2011 to 2015\n",
        "x = df['Year'][-5:] \n",
        "\n",
        "# y-axis arrays \n",
        "y_national = np.array(df['National'][-5:])\n",
        "y_dublin = np.array(df['Dublin'][-5:])\n",
        "y_cork = np.array(df['Cork'][-5:])\n",
        "y_galway = np.array(df['Galway'][-5:])\n",
        "y_limerick = np.array(df['Limerick'][-5:])\n",
        "y_waterford = np.array(df['Waterford'][-5:])\n",
        "y_other_areas = np.array(df['Other Areas'][-5:])\n",
        "\n",
        "# plotting x-axis and\n",
        "plt.plot(x, y_national, label='National')\n",
        "plt.plot(x, y_dublin, label='Dublin')\n",
        "plt.plot(x, y_cork, label='Cork')\n",
        "plt.plot(x, y_galway, label='Galway')\n",
        "plt.plot(x, y_limerick, label='Limerick')\n",
        "plt.plot(x, y_waterford, label='Waterford')\n",
        "plt.plot(x, y_other_areas, label='Other Areas')\n",
        "\n",
        "# Add labels and legend\n",
        "plt.xlabel('Year')\n",
        "plt.ylabel('Price')\n",
        "plt.legend(loc='upper left', bbox_to_anchor=(1, 1))\n",
        "\n",
        "# ensures that the x-axis tick labels are displayed as integers.\n",
        "plt.gca().xaxis.set_major_locator(plt.MaxNLocator(integer=True))\n",
        "\n",
        "plt.show()"
      ],
      "metadata": {
        "colab": {
          "base_uri": "https://localhost:8080/",
          "height": 449
        },
        "outputId": "37422873-ec36-454f-f318-6c82f1f29872",
        "id": "3ZlgmHAw74kZ"
      },
      "execution_count": 42,
      "outputs": [
        {
          "output_type": "display_data",
          "data": {
            "text/plain": [
              "<Figure size 640x480 with 1 Axes>"
            ],
            "image/png": "[encoded data removed]"
          },
          "metadata": {}
        }
      ]
    },
    {
      "cell_type": "markdown",
      "source": [
        "*It is evident from above line chart that prices of second hand properties are the highest in Dublin between 2011 and 2015.*\n",
        "\n"
      ],
      "metadata": {
        "id": "dmcclnQx_xWv"
      }
    },
    {
      "cell_type": "markdown",
      "source": [
        "\n",
        "\n",
        "##3.   Prices in Ireland's biggest cities\n"
      ],
      "metadata": {
        "id": "QPmazYbHbiH3"
      }
    },
    {
      "cell_type": "code",
      "source": [
        "# x-axis array\n",
        "# years ranging from 2011 to 2015\n",
        "x_axis = df['Year'][-5:] \n",
        "\n",
        "counties_y_axis = {\n",
        "    'Dublin': df.query('Year >= 2011 and Year <= 2015')['Dublin'],\n",
        "    'Cork': df.query('Year >= 2011 and Year <= 2015')['Cork'],\n",
        "    'Limerick': df.query('Year >= 2011 and Year <= 2015')['Limerick']\n",
        "}\n",
        "\n",
        "x = np.arange(len(x_axis))  # the label locations\n",
        "width = 0.25  # the width of the bars\n",
        "multiplier = 0\n",
        "\n",
        "fig, ax = plt.subplots(layout='constrained')\n",
        "\n",
        "for attribute, measurement in counties_y_axis.items():\n",
        "    offset = width * multiplier\n",
        "    rects = ax.bar(x + offset, measurement, width, label=attribute)\n",
        "    ax.bar_label(rects, padding=3)\n",
        "    multiplier += 1\n",
        "\n",
        "# Add some text for labels, title and custom x-axis tick labels, etc.\n",
        "ax.set_ylabel('Price')\n",
        "ax.set_title('Prices in counties by years')\n",
        "ax.set_xticks(x + width * (len(counties_y_axis) - 1) / 2, x_axis)\n",
        "ax.legend(loc='upper left', ncols=len(counties_y_axis))\n",
        "ax.set_ylim(0, 400000)\n",
        "\n",
        "plt.show()"
      ],
      "metadata": {
        "colab": {
          "base_uri": "https://localhost:8080/",
          "height": 508
        },
        "id": "ZQQa2JqcKDhj",
        "outputId": "4b6b019f-16a5-473d-f0cf-a9cd8ea6540b"
      },
      "execution_count": 40,
      "outputs": [
        {
          "output_type": "display_data",
          "data": {
            "text/plain": [
              "<Figure size 640x480 with 1 Axes>"
            ],
            "image/png": "[encoded data removed]"
          },
          "metadata": {}
        }
      ]
    },
    {
      "cell_type": "markdown",
      "source": [
        "*The above grouped bar chart focuses on the prices in the three largest cities of Ireland: Dublin, Galway, and Limerick, respectively. Between 2011 and 2015, Dublin consistently had the highest prices, making it the most expensive city. Interestingly, the prices of second-hand houses showed a decline starting from 2011.*\n",
        "\n"
      ],
      "metadata": {
        "id": "ntPfPsajZfP5"
      }
    },
    {
      "cell_type": "markdown",
      "source": [
        "### Dataset link:\n",
        "https://data.gov.ie/dataset/second-hand-property-prices-by-area-by-year?package_type=dataset\n"
      ],
      "metadata": {
        "id": "xJ1ubb9PU213"
      }
    }
  ]
}